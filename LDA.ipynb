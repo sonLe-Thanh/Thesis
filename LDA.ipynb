{
 "cells": [
  {
   "cell_type": "code",
   "execution_count": 1,
   "id": "deb5b812-2710-471f-ae80-49277663d04e",
   "metadata": {},
   "outputs": [],
   "source": [
    "import pandas as pd\n",
    "import gensim"
   ]
  },
  {
   "cell_type": "code",
   "execution_count": 2,
   "id": "db409ac9-0988-40b7-b1b6-6e0a4ca85467",
   "metadata": {},
   "outputs": [],
   "source": [
    "with open('../data/China_stemmed.txt') as file:\n",
    "    lines = file.readlines()"
   ]
  },
  {
   "cell_type": "code",
   "execution_count": 3,
   "id": "ddf788df-c1f6-4f48-a8c2-3be380c67a2c",
   "metadata": {},
   "outputs": [
    {
     "data": {
      "text/plain": [
       "'immacul awesom place visit tri show respect god suggest place seek freedo\\n'"
      ]
     },
     "execution_count": 3,
     "metadata": {},
     "output_type": "execute_result"
    }
   ],
   "source": [
    "lines[0]"
   ]
  },
  {
   "cell_type": "markdown",
   "id": "eb596696-18e2-44ea-828c-3b6aa531eb76",
   "metadata": {},
   "source": [
    "## Tokenize"
   ]
  },
  {
   "cell_type": "code",
   "execution_count": 4,
   "id": "7765d0fe-9bcd-4817-9953-b5b84117d8cd",
   "metadata": {},
   "outputs": [
    {
     "data": {
      "text/plain": [
       "['immacul',\n",
       " 'awesom',\n",
       " 'place',\n",
       " 'visit',\n",
       " 'tri',\n",
       " 'show',\n",
       " 'respect',\n",
       " 'god',\n",
       " 'suggest',\n",
       " 'place',\n",
       " 'seek',\n",
       " 'freedo']"
      ]
     },
     "execution_count": 4,
     "metadata": {},
     "output_type": "execute_result"
    }
   ],
   "source": [
    "list(gensim.utils.tokenize(lines[0], deacc = True))"
   ]
  },
  {
   "cell_type": "code",
   "execution_count": 5,
   "id": "e979f083-e838-4f09-878e-8c42d1f23792",
   "metadata": {},
   "outputs": [],
   "source": [
    "corpus = [list(gensim.utils.tokenize(line, deacc = True)) for line in lines]"
   ]
  },
  {
   "cell_type": "code",
   "execution_count": 6,
   "id": "6af7a33d-ac07-49d3-b309-0c0f065d5c8b",
   "metadata": {},
   "outputs": [
    {
     "data": {
      "text/html": [
       "<div>\n",
       "<style scoped>\n",
       "    .dataframe tbody tr th:only-of-type {\n",
       "        vertical-align: middle;\n",
       "    }\n",
       "\n",
       "    .dataframe tbody tr th {\n",
       "        vertical-align: top;\n",
       "    }\n",
       "\n",
       "    .dataframe thead th {\n",
       "        text-align: right;\n",
       "    }\n",
       "</style>\n",
       "<table border=\"1\" class=\"dataframe\">\n",
       "  <thead>\n",
       "    <tr style=\"text-align: right;\">\n",
       "      <th></th>\n",
       "      <th>reviews</th>\n",
       "    </tr>\n",
       "  </thead>\n",
       "  <tbody>\n",
       "    <tr>\n",
       "      <th>0</th>\n",
       "      <td>[immacul, awesom, place, visit, tri, show, res...</td>\n",
       "    </tr>\n",
       "    <tr>\n",
       "      <th>1</th>\n",
       "      <td>[renov, spend, hour, come, ngong, ping, go, bu...</td>\n",
       "    </tr>\n",
       "    <tr>\n",
       "      <th>2</th>\n",
       "      <td>[renov, june, normal, one, hong, kong, popular...</td>\n",
       "    </tr>\n",
       "    <tr>\n",
       "      <th>3</th>\n",
       "      <td>[magic, visit, tian, tan, buddha, time, someti...</td>\n",
       "    </tr>\n",
       "    <tr>\n",
       "      <th>4</th>\n",
       "      <td>[great, place, visit, great, hike, beauti, vie...</td>\n",
       "    </tr>\n",
       "  </tbody>\n",
       "</table>\n",
       "</div>"
      ],
      "text/plain": [
       "                                             reviews\n",
       "0  [immacul, awesom, place, visit, tri, show, res...\n",
       "1  [renov, spend, hour, come, ngong, ping, go, bu...\n",
       "2  [renov, june, normal, one, hong, kong, popular...\n",
       "3  [magic, visit, tian, tan, buddha, time, someti...\n",
       "4  [great, place, visit, great, hike, beauti, vie..."
      ]
     },
     "execution_count": 6,
     "metadata": {},
     "output_type": "execute_result"
    }
   ],
   "source": [
    "corpus = pd.DataFrame({'reviews': corpus})\n",
    "corpus.head()"
   ]
  },
  {
   "cell_type": "code",
   "execution_count": 7,
   "id": "92639054-e93c-4062-a0b4-c228c271285d",
   "metadata": {},
   "outputs": [],
   "source": [
    "docs = corpus['reviews']"
   ]
  },
  {
   "cell_type": "markdown",
   "id": "564e7a56-9cd6-4c02-9a73-9b68ea56b665",
   "metadata": {},
   "source": [
    "## Bag of words"
   ]
  },
  {
   "cell_type": "code",
   "execution_count": 8,
   "id": "1c41e438-d553-4682-bf09-ab5ee646f71b",
   "metadata": {},
   "outputs": [],
   "source": [
    "dictionary = gensim.corpora.Dictionary(docs)"
   ]
  },
  {
   "cell_type": "code",
   "execution_count": 9,
   "id": "77d50bc2-e023-43db-94f5-f43f3980f48b",
   "metadata": {},
   "outputs": [
    {
     "name": "stdout",
     "output_type": "stream",
     "text": [
      "0 awesom\n",
      "1 freedo\n",
      "2 god\n",
      "3 immacul\n",
      "4 place\n",
      "5 respect\n",
      "6 seek\n",
      "7 show\n",
      "8 suggest\n",
      "9 tri\n",
      "10 visit\n",
      "11 area\n",
      "12 buddha\n",
      "13 come\n",
      "14 cover\n",
      "15 crowd\n",
      "16 current\n",
      "17 day\n",
      "18 enjoy\n",
      "19 except\n",
      "20 go\n"
     ]
    }
   ],
   "source": [
    "count=0\n",
    "for k,v in dictionary.iteritems():\n",
    "    print(k,v)\n",
    "    count+=1\n",
    "    if count>20:\n",
    "        break"
   ]
  },
  {
   "cell_type": "code",
   "execution_count": 10,
   "id": "2158d505-b263-4460-9812-a62ce4689f1f",
   "metadata": {},
   "outputs": [],
   "source": [
    "bow = [dictionary.doc2bow(doc) for doc in docs]"
   ]
  },
  {
   "cell_type": "code",
   "execution_count": 13,
   "id": "7638aa37-3d89-4559-92f9-8b205acd1138",
   "metadata": {},
   "outputs": [],
   "source": [
    "lda_model = gensim.models.LdaModel(bow,\n",
    "                                    num_topics=10,\n",
    "                                    id2word=dictionary,\n",
    "                                    passes=2)"
   ]
  },
  {
   "cell_type": "code",
   "execution_count": 14,
   "id": "489506d3-e83d-426a-ba80-4f07a26ece34",
   "metadata": {},
   "outputs": [
    {
     "name": "stdout",
     "output_type": "stream",
     "text": [
      "Topic: 0 \n",
      "Words: 0.025*\"park\" + 0.017*\"lake\" + 0.016*\"walk\" + 0.015*\"place\" + 0.014*\"templ\" + 0.014*\"beauti\" + 0.013*\"visit\" + 0.011*\"nice\" + 0.010*\"garden\" + 0.009*\"see\"\n",
      "\n",
      "\n",
      "Topic: 1 \n",
      "Words: 0.044*\"place\" + 0.027*\"nice\" + 0.023*\"shop\" + 0.020*\"good\" + 0.017*\"walk\" + 0.017*\"great\" + 0.015*\"visit\" + 0.013*\"lot\" + 0.013*\"area\" + 0.012*\"food\"\n",
      "\n",
      "\n",
      "Topic: 2 \n",
      "Words: 0.023*\"tour\" + 0.022*\"guid\" + 0.017*\"us\" + 0.012*\"see\" + 0.011*\"panda\" + 0.011*\"english\" + 0.010*\"get\" + 0.008*\"speak\" + 0.008*\"visit\" + 0.007*\"group\"\n",
      "\n",
      "\n",
      "Topic: 3 \n",
      "Words: 0.041*\"view\" + 0.021*\"mountain\" + 0.019*\"peak\" + 0.019*\"hike\" + 0.018*\"top\" + 0.018*\"car\" + 0.018*\"cabl\" + 0.017*\"take\" + 0.016*\"walk\" + 0.015*\"climb\"\n",
      "\n",
      "\n",
      "Topic: 4 \n",
      "Words: 0.036*\"walk\" + 0.025*\"north\" + 0.014*\"shop\" + 0.014*\"old\" + 0.013*\"road\" + 0.012*\"tourist\" + 0.012*\"along\" + 0.012*\"west\" + 0.011*\"xiamen\" + 0.011*\"area\"\n",
      "\n",
      "\n",
      "Topic: 5 \n",
      "Words: 0.018*\"ticket\" + 0.015*\"park\" + 0.014*\"bu\" + 0.014*\"rmb\" + 0.011*\"get\" + 0.011*\"day\" + 0.010*\"ride\" + 0.008*\"one\" + 0.008*\"train\" + 0.008*\"take\"\n",
      "\n",
      "\n",
      "Topic: 6 \n",
      "Words: 0.038*\"show\" + 0.021*\"bay\" + 0.019*\"beach\" + 0.018*\"beauti\" + 0.017*\"water\" + 0.015*\"amaz\" + 0.012*\"trek\" + 0.012*\"great\" + 0.012*\"experi\" + 0.011*\"best\"\n",
      "\n",
      "\n",
      "Topic: 7 \n",
      "Words: 0.022*\"go\" + 0.019*\"time\" + 0.015*\"crowd\" + 0.014*\"get\" + 0.013*\"visit\" + 0.010*\"see\" + 0.009*\"day\" + 0.009*\"peopl\" + 0.009*\"tower\" + 0.008*\"would\"\n",
      "\n",
      "\n",
      "Topic: 8 \n",
      "Words: 0.032*\"garden\" + 0.024*\"visit\" + 0.018*\"macau\" + 0.017*\"mausoleum\" + 0.015*\"chines\" + 0.015*\"church\" + 0.015*\"build\" + 0.014*\"histori\" + 0.012*\"place\" + 0.012*\"beauti\"\n",
      "\n",
      "\n",
      "Topic: 9 \n",
      "Words: 0.015*\"tomb\" + 0.014*\"need\" + 0.013*\"museum\" + 0.011*\"english\" + 0.010*\"visit\" + 0.009*\"humbl\" + 0.008*\"place\" + 0.008*\"chines\" + 0.007*\"china\" + 0.007*\"histori\"\n",
      "\n",
      "\n"
     ]
    }
   ],
   "source": [
    "for idx,topic in lda_model.print_topics(-1):\n",
    "    print(\"Topic: {} \\nWords: {}\".format(idx, topic))\n",
    "    print(\"\\n\")"
   ]
  },
  {
   "cell_type": "markdown",
   "id": "f7ededef-2793-4d4a-989c-a7045fb62429",
   "metadata": {},
   "source": [
    "## TF-IDF"
   ]
  },
  {
   "cell_type": "code",
   "execution_count": 18,
   "id": "71c311cb-1eef-4f97-8392-864c4fe69def",
   "metadata": {},
   "outputs": [],
   "source": [
    "tfidf = gensim.models.TfidfModel(bow)\n",
    "tfidf = tfidf[bow]"
   ]
  },
  {
   "cell_type": "code",
   "execution_count": 19,
   "id": "8c947828-e3d5-4fd8-96b5-282bd7904e9b",
   "metadata": {},
   "outputs": [],
   "source": [
    "lda_model_tfidf = gensim.models.LdaModel(tfidf, \n",
    "                                         num_topics=10, \n",
    "                                         id2word = dictionary, \n",
    "                                         passes = 2)"
   ]
  },
  {
   "cell_type": "code",
   "execution_count": 20,
   "id": "b8d26eea-b384-4acf-b77a-3fe4a15d04e7",
   "metadata": {},
   "outputs": [
    {
     "name": "stdout",
     "output_type": "stream",
     "text": [
      "Topic: 0 Word: 0.010*\"cave\" + 0.009*\"humbl\" + 0.008*\"gorg\" + 0.008*\"door\" + 0.007*\"pagoda\" + 0.006*\"guest\" + 0.006*\"understand\" + 0.006*\"shape\" + 0.005*\"carri\" + 0.005*\"biggest\"\n",
      "\n",
      "\n",
      "Topic: 1 Word: 0.016*\"father\" + 0.007*\"bicycl\" + 0.007*\"chi\" + 0.006*\"faint\" + 0.005*\"observatori\" + 0.005*\"symbol\" + 0.004*\"bruce\" + 0.004*\"pavement\" + 0.004*\"exquisit\" + 0.003*\"octopu\"\n",
      "\n",
      "\n",
      "Topic: 2 Word: 0.007*\"view\" + 0.006*\"place\" + 0.006*\"walk\" + 0.006*\"garden\" + 0.006*\"nice\" + 0.005*\"visit\" + 0.005*\"great\" + 0.005*\"beauti\" + 0.005*\"park\" + 0.005*\"good\"\n",
      "\n",
      "\n",
      "Topic: 3 Word: 0.031*\"pagoda\" + 0.011*\"bridg\" + 0.010*\"river\" + 0.009*\"panoram\" + 0.008*\"wed\" + 0.008*\"pollut\" + 0.007*\"leader\" + 0.007*\"reward\" + 0.007*\"cruis\" + 0.006*\"cross\"\n",
      "\n",
      "\n",
      "Topic: 4 Word: 0.017*\"ming\" + 0.015*\"student\" + 0.011*\"electron\" + 0.011*\"administr\" + 0.010*\"wu\" + 0.009*\"railway\" + 0.009*\"bodi\" + 0.008*\"nan\" + 0.006*\"furnitur\" + 0.006*\"sweat\"\n",
      "\n",
      "\n",
      "Topic: 5 Word: 0.043*\"suzhou\" + 0.010*\"librari\" + 0.009*\"coaster\" + 0.009*\"canal\" + 0.008*\"mount\" + 0.008*\"oct\" + 0.007*\"pagoda\" + 0.007*\"typic\" + 0.007*\"paradis\" + 0.007*\"valley\"\n",
      "\n",
      "\n",
      "Topic: 6 Word: 0.042*\"univers\" + 0.016*\"botan\" + 0.007*\"wave\" + 0.007*\"romant\" + 0.006*\"strenuou\" + 0.006*\"fairi\" + 0.006*\"rent\" + 0.006*\"cant\" + 0.005*\"pool\" + 0.005*\"dress\"\n",
      "\n",
      "\n",
      "Topic: 7 Word: 0.024*\"trade\" + 0.020*\"jump\" + 0.017*\"church\" + 0.011*\"bunge\" + 0.008*\"bungi\" + 0.008*\"wednesday\" + 0.006*\"pilgrimag\" + 0.005*\"gather\" + 0.004*\"senado\" + 0.004*\"st\"\n",
      "\n",
      "\n",
      "Topic: 8 Word: 0.010*\"bonsai\" + 0.008*\"tea\" + 0.007*\"fountain\" + 0.006*\"canal\" + 0.006*\"charm\" + 0.005*\"tough\" + 0.005*\"race\" + 0.005*\"apart\" + 0.005*\"bridg\" + 0.005*\"oldest\"\n",
      "\n",
      "\n",
      "Topic: 9 Word: 0.010*\"french\" + 0.008*\"swim\" + 0.007*\"linger\" + 0.007*\"martial\" + 0.006*\"craft\" + 0.005*\"viewpoint\" + 0.005*\"met\" + 0.004*\"pain\" + 0.004*\"solo\" + 0.004*\"yangtz\"\n",
      "\n",
      "\n"
     ]
    }
   ],
   "source": [
    "for idx, topic in lda_model_tfidf.print_topics(-1):\n",
    "    print(\"Topic: {} Word: {}\".format(idx, topic))\n",
    "    print(\"\\n\")"
   ]
  },
  {
   "cell_type": "code",
   "execution_count": null,
   "id": "262dd0f2-0a7f-47e7-ab3e-0b308b926187",
   "metadata": {},
   "outputs": [],
   "source": []
  }
 ],
 "metadata": {
  "kernelspec": {
   "display_name": "Python 3 (ipykernel)",
   "language": "python",
   "name": "python3"
  },
  "language_info": {
   "codemirror_mode": {
    "name": "ipython",
    "version": 3
   },
   "file_extension": ".py",
   "mimetype": "text/x-python",
   "name": "python",
   "nbconvert_exporter": "python",
   "pygments_lexer": "ipython3",
   "version": "3.9.9"
  }
 },
 "nbformat": 4,
 "nbformat_minor": 5
}
